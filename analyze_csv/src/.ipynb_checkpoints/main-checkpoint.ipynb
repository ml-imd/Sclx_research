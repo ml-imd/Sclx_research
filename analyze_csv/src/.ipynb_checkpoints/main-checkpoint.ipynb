{
 "cells": [
  {
   "cell_type": "code",
   "execution_count": 1,
   "metadata": {},
   "outputs": [],
   "source": [
    "from Script import analyzeAll, export"
   ]
  },
  {
   "cell_type": "code",
   "execution_count": 2,
   "metadata": {},
   "outputs": [],
   "source": [
    "def main(task, path, params, opt = {}):\n",
    "    tasks = {\"analyzeAll\" : analyzeAll,\n",
    "            \"export\" : export,}\n",
    "    tasks[task](path, *params, **opt)"
   ]
  },
  {
   "cell_type": "code",
   "execution_count": 3,
   "metadata": {},
   "outputs": [],
   "source": [
    "#main(\"analyzeAll\", \"iris.csv\", [(2,6), (1,5)], {\"label_col\" : \"variety\"})\n",
    "for k in range(2,11):\n",
    "    main(\"export\", \"base_v1.csv\", [\"AgglomerativeClustering\"], {\"k\" : k})\n"
   ]
  }
 ],
 "metadata": {
  "kernelspec": {
   "display_name": "Python 3",
   "language": "python",
   "name": "python3"
  },
  "language_info": {
   "codemirror_mode": {
    "name": "ipython",
    "version": 3
   },
   "file_extension": ".py",
   "mimetype": "text/x-python",
   "name": "python",
   "nbconvert_exporter": "python",
   "pygments_lexer": "ipython3",
   "version": "3.7.6"
  }
 },
 "nbformat": 4,
 "nbformat_minor": 4
}
