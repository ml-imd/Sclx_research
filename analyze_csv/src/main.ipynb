{
 "cells": [
  {
   "cell_type": "code",
   "execution_count": 1,
   "metadata": {},
   "outputs": [],
   "source": [
    "from Script import analyzeAll, export"
   ]
  },
  {
   "cell_type": "code",
   "execution_count": 2,
   "metadata": {},
   "outputs": [],
   "source": [
    "def main(task, path, params, opt = {}):\n",
    "    tasks = {\"analyzeAll\" : analyzeAll,\n",
    "            \"export\" : export,}\n",
    "    tasks[task](path, *params, **opt)"
   ]
  },
  {
   "cell_type": "code",
   "execution_count": 3,
   "metadata": {},
   "outputs": [],
   "source": [
    "#main(\"analyzeAll\", \"iris.csv\", [(2,3), (1,)], {\"label_col\" : \"variety\"})\n",
    "#for k in range(2,11):\n",
    "#    main(\"export\", \"base_v1.csv\", [\"AgglomerativeClustering\"], {\"k\" : k})\n"
   ]
  },
  {
   "cell_type": "code",
   "execution_count": null,
   "metadata": {},
   "outputs": [],
   "source": [
    "#emo_big5\n",
    "main(\"export\", \"emo_big5.csv\", [\"KMeans\"], {\"k\" : 2, \"seed\": 7})\n",
    "main(\"export\", \"emo_big5.csv\", [\"KMeans\"], {\"k\" : 3, \"seed\": 7})\n",
    "main(\"export\", \"emo_big5.csv\", [\"DBSCAN\"])\n",
    "main(\"export\", \"emo_big5.csv\", [\"AgglomerativeClustering\"], {\"k\" : 3})\n",
    "\n",
    "#emo_big5_norm\n",
    "main(\"export\", \"emo_big5_norm.csv\", [\"KMeans\"], {\"k\" : 2, \"seed\": 7})\n",
    "main(\"export\", \"emo_big5_norm.csv\", [\"KMeans\"], {\"k\" : 3, \"seed\": 7})\n",
    "\n",
    "#tfidf_big5_norm\n",
    "main(\"export\", \"emo_big5_norm.csv\", [\"KMeans\"], {\"k\" : 2, \"seed\": 7})\n",
    "main(\"export\", \"emo_big5_norm.csv\", [\"MiniBatchKMeans\"], {\"k\" : 3, \"seed\": 57})\n",
    "\n",
    "#tfidf_big5_norm\n",
    "main(\"export\", \"emo_big5_norm.csv\", [\"KMeans\"], {\"k\" : 2, \"seed\": 7})\n",
    "main(\"export\", \"emo_big5_norm.csv\", [\"MiniBatchKMeans\"], {\"k\" : 3, \"seed\": 7})"
   ]
  }
 ],
 "metadata": {
  "kernelspec": {
   "display_name": "Python 3 (ipykernel)",
   "language": "python",
   "name": "python3"
  },
  "language_info": {
   "codemirror_mode": {
    "name": "ipython",
    "version": 3
   },
   "file_extension": ".py",
   "mimetype": "text/x-python",
   "name": "python",
   "nbconvert_exporter": "python",
   "pygments_lexer": "ipython3",
   "version": "3.10.5"
  }
 },
 "nbformat": 4,
 "nbformat_minor": 4
}
