{
 "cells": [
  {
   "cell_type": "code",
   "execution_count": null,
   "metadata": {},
   "outputs": [],
   "source": [
    "from Script import analyzeAll, export"
   ]
  },
  {
   "cell_type": "code",
   "execution_count": null,
   "metadata": {},
   "outputs": [],
   "source": [
    "def main(task, path, params, opt = {}):\n",
    "    tasks = {\"analyzeAll\" : analyzeAll,\n",
    "            \"export\" : export,}\n",
    "    tasks[task](path, *params, **opt)"
   ]
  },
  {
   "cell_type": "code",
   "execution_count": null,
   "metadata": {},
   "outputs": [],
   "source": [
    "main(\"analyzeAll\", \"iris.csv\", [(2,6), (1,5)], {\"label_col\" : \"variety\"})\n",
    "main(\"export\", \"iris.csv\", [\"KMeans\"], {\"k\" : 3, \"seed\" : 5, \"label_col\" : \"variety\"})"
   ]
  }
 ],
 "metadata": {
  "kernelspec": {
   "display_name": "Python 3",
   "language": "python",
   "name": "python3"
  },
  "language_info": {
   "codemirror_mode": {
    "name": "ipython",
    "version": 3
   },
   "file_extension": ".py",
   "mimetype": "text/x-python",
   "name": "python",
   "nbconvert_exporter": "python",
   "pygments_lexer": "ipython3",
   "version": "3.8.2-final"
  }
 },
 "nbformat": 4,
 "nbformat_minor": 4
}