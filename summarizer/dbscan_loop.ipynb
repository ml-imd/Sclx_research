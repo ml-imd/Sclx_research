{
 "cells": [
  {
   "cell_type": "code",
   "execution_count": 1,
   "metadata": {},
   "outputs": [],
   "source": [
    "from script import readData\n",
    "from sklearn.cluster import DBSCAN\n",
    "import numpy as np\n",
    "from os import stat"
   ]
  },
  {
   "cell_type": "code",
   "execution_count": 2,
   "metadata": {},
   "outputs": [],
   "source": [
    "def writeData(eps, m_points, n_clusters):\n",
    "    file = open(\"dbscanLoopResult.csv\", 'a')\n",
    "    if(stat(\"dbscanLoopResult.csv\").st_size == 0):\n",
    "        file.write(\"epsilon,m_points,n_clusters\\n\")\n",
    "    file.write(eps + ',' + m_points + ',' + n_clusters + '\\n')\n",
    "    file.close()"
   ]
  },
  {
   "cell_type": "code",
   "execution_count": 16,
   "metadata": {},
   "outputs": [],
   "source": [
    "def dbscanLoop(path, max_eps = 10, max_m_points = 30):\n",
    "    dataset = readData(path)\n",
    "    dbscan = DBSCAN()\n",
    "    epsi = 2\n",
    "    while(epsi <= 100):\n",
    "        for m_points in range(2, (max_m_points + 2), 2):\n",
    "            dbscan.set_params(**{\"eps\" : (epsi/10), \"min_samples\" : m_points})\n",
    "            dbscan.fit(dataset)\n",
    "            clusters = set(dbscan.labels_)\n",
    "            n_clusters = len(clusters) - (1 if -1 in clusters else 0)\n",
    "            writeData(str(epsi/10), str(m_points), str(n_clusters))\n",
    "        epsi = epsi + 2"
   ]
  },
  {
   "cell_type": "code",
   "execution_count": 17,
   "metadata": {
    "scrolled": false
   },
   "outputs": [],
   "source": [
    "dbscanLoop(\"teste.csv\")"
   ]
  },
  {
   "cell_type": "markdown",
   "metadata": {},
   "source": [
    "Scikit_scylax_rn_p3v2.csv"
   ]
  }
 ],
 "metadata": {
  "kernelspec": {
   "display_name": "Python 3",
   "language": "python",
   "name": "python3"
  },
  "language_info": {
   "codemirror_mode": {
    "name": "ipython",
    "version": 3
   },
   "file_extension": ".py",
   "mimetype": "text/x-python",
   "name": "python",
   "nbconvert_exporter": "python",
   "pygments_lexer": "ipython3",
   "version": "3.7.6"
  }
 },
 "nbformat": 4,
 "nbformat_minor": 4
}
